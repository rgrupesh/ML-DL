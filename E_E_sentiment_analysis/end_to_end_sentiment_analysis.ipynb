{
  "nbformat": 4,
  "nbformat_minor": 0,
  "metadata": {
    "colab": {
      "name": "end-to-end-sentiment-analysis.ipynb",
      "provenance": [],
      "collapsed_sections": []
    },
    "kernelspec": {
      "name": "python3",
      "display_name": "Python 3"
    },
    "language_info": {
      "name": "python"
    }
  },
  "cells": [
    {
      "cell_type": "code",
      "metadata": {
        "colab": {
          "base_uri": "https://localhost:8080/"
        },
        "id": "S_BwkvnkdZcU",
        "outputId": "33dcb894-8e05-43ae-c73b-4f01be645c68"
      },
      "source": [
        "!pip3 install SpeechRecognition pydub"
      ],
      "execution_count": 1,
      "outputs": [
        {
          "output_type": "stream",
          "text": [
            "Collecting SpeechRecognition\n",
            "\u001b[?25l  Downloading https://files.pythonhosted.org/packages/26/e1/7f5678cd94ec1234269d23756dbdaa4c8cfaed973412f88ae8adf7893a50/SpeechRecognition-3.8.1-py2.py3-none-any.whl (32.8MB)\n",
            "\u001b[K     |████████████████████████████████| 32.8MB 87kB/s \n",
            "\u001b[?25hCollecting pydub\n",
            "  Downloading https://files.pythonhosted.org/packages/a6/53/d78dc063216e62fc55f6b2eebb447f6a4b0a59f55c8406376f76bf959b08/pydub-0.25.1-py2.py3-none-any.whl\n",
            "Installing collected packages: SpeechRecognition, pydub\n",
            "Successfully installed SpeechRecognition-3.8.1 pydub-0.25.1\n"
          ],
          "name": "stdout"
        }
      ]
    },
    {
      "cell_type": "code",
      "metadata": {
        "id": "DU3iFNNidkca"
      },
      "source": [
        "import speech_recognition as sr \n",
        "import os \n",
        "from pydub import AudioSegment\n",
        "from pydub.silence import split_on_silence\n",
        "from textblob import TextBlob as blob"
      ],
      "execution_count": 102,
      "outputs": []
    },
    {
      "cell_type": "code",
      "metadata": {
        "id": "rwLkjRxIdsuN"
      },
      "source": [
        "r = sr.Recognizer()"
      ],
      "execution_count": 103,
      "outputs": []
    },
    {
      "cell_type": "code",
      "metadata": {
        "colab": {
          "base_uri": "https://localhost:8080/",
          "height": 35
        },
        "id": "-U1zWRj-dxji",
        "outputId": "31d73049-610e-456c-f92a-8dd0d95c3b0b"
      },
      "source": [
        "\"\"\" load audio,\n",
        "    split,\n",
        "    create folder,\n",
        "    enumrate and export them to a folder,\n",
        "    recognize audio\n",
        "    \"\"\""
      ],
      "execution_count": 104,
      "outputs": [
        {
          "output_type": "execute_result",
          "data": {
            "application/vnd.google.colaboratory.intrinsic+json": {
              "type": "string"
            },
            "text/plain": [
              "' load audio,\\n    split,\\n    create folder,\\n    enumrate and export them to a folder,\\n    recognize audio\\n    '"
            ]
          },
          "metadata": {
            "tags": []
          },
          "execution_count": 104
        }
      ]
    },
    {
      "cell_type": "code",
      "metadata": {
        "id": "PTq8LDOitpVD"
      },
      "source": [
        "def audio_to_text(path):\n",
        "  audio = AudioSegment.from_wav(path)\n",
        "  divided_audio = split_on_silence(audio,min_silence_len=500,silence_thresh = audio.dBFS-14,keep_silence=500)\n",
        "\n",
        "  if not os.path.isdir(\"splitted_audio\"):\n",
        "    os.makedirs(\"splitted_audio\")\n",
        "\n",
        "  full_text = \"\"\n",
        "\n",
        "  for index, audio_c in enumerate(divided_audio):\n",
        "    dest = os.path.join(\"splitted_audio\", f\"split{index}.wav\")\n",
        "    audio_c.export(dest,format=\"wav\")\n",
        "\n",
        "    with sr.AudioFile(dest) as destination:\n",
        "      audio_record = r.record(destination)\n",
        "      text = r.recognize_google(audio_record)\n",
        "      print(text)\n",
        "      full_text += text   \n",
        "\n",
        "  return full_text    \n"
      ],
      "execution_count": 105,
      "outputs": []
    },
    {
      "cell_type": "code",
      "metadata": {
        "colab": {
          "base_uri": "https://localhost:8080/"
        },
        "id": "cy5IG2txz47-",
        "outputId": "bb372a98-166b-40e8-c717-5825eefb6018"
      },
      "source": [
        "!ls"
      ],
      "execution_count": 106,
      "outputs": [
        {
          "output_type": "stream",
          "text": [
            "sample_data  splitted_audio  test1.wav\ttest2.wav  test.wav\n"
          ],
          "name": "stdout"
        }
      ]
    },
    {
      "cell_type": "code",
      "metadata": {
        "colab": {
          "base_uri": "https://localhost:8080/"
        },
        "id": "yQZD1GXwz_9Z",
        "outputId": "3415fd04-edd4-4806-abdb-261aba83012a"
      },
      "source": [
        "path_to_file=\"test2.wav\" #enter path here\n",
        "transcibed_text = audio_to_text(path_to_file)\n"
      ],
      "execution_count": 109,
      "outputs": [
        {
          "output_type": "stream",
          "text": [
            "perhaps this is what gives the operating in his are there of dignity turbulent are dressed as much as 50 ft Jenna choreographer Mets arbitrate did not have ever settle back into acquiescence\n",
            "put things as they were out of misery and desolation ironically enough in this instance such personal virtues were a luxury two other cases also were under advisement\n",
            "he's a horse thief runs an old attics he may have a point in urging that doesn't seem to be given to our prizes to straight line would symbolize its uniqueness the circle its universality kill small hole in bowl with Clara has multiple implications and possible headaches be a marketing program manufacturer of the costs involved crooked overlapping Twisted oar\n",
            "see you always navigate like this\n"
          ],
          "name": "stdout"
        }
      ]
    },
    {
      "cell_type": "code",
      "metadata": {
        "colab": {
          "base_uri": "https://localhost:8080/"
        },
        "id": "6G9ctuhv0sGg",
        "outputId": "a96c26c8-cc12-45b7-b966-6dc13057b5ed"
      },
      "source": [
        "print(transcibed_text)"
      ],
      "execution_count": 110,
      "outputs": [
        {
          "output_type": "stream",
          "text": [
            "perhaps this is what gives the operating in his are there of dignity turbulent are dressed as much as 50 ft Jenna choreographer Mets arbitrate did not have ever settle back into acquiescenceput things as they were out of misery and desolation ironically enough in this instance such personal virtues were a luxury two other cases also were under advisementhe's a horse thief runs an old attics he may have a point in urging that doesn't seem to be given to our prizes to straight line would symbolize its uniqueness the circle its universality kill small hole in bowl with Clara has multiple implications and possible headaches be a marketing program manufacturer of the costs involved crooked overlapping Twisted oarsee you always navigate like this\n"
          ],
          "name": "stdout"
        }
      ]
    },
    {
      "cell_type": "code",
      "metadata": {
        "id": "9wvmou4a1U65"
      },
      "source": [
        "tb = blob(transcibed_text)"
      ],
      "execution_count": 111,
      "outputs": []
    },
    {
      "cell_type": "code",
      "metadata": {
        "colab": {
          "base_uri": "https://localhost:8080/"
        },
        "id": "GFC9Io2Z7q5L",
        "outputId": "5ee2edf4-970d-4ce1-c95a-7f0f2dd27522"
      },
      "source": [
        "tb.sentiment"
      ],
      "execution_count": 112,
      "outputs": [
        {
          "output_type": "execute_result",
          "data": {
            "text/plain": [
              "Sentiment(polarity=-0.028846153846153848, subjectivity=0.38269230769230766)"
            ]
          },
          "metadata": {
            "tags": []
          },
          "execution_count": 112
        }
      ]
    },
    {
      "cell_type": "code",
      "metadata": {
        "id": "ug6BQ8ck7ti7"
      },
      "source": [
        "def get_sentiment(sentence):\n",
        "        analysis = blob(sentence)\n",
        "        if analysis.sentiment.polarity > 0:\n",
        "            return ('positive')\n",
        "        elif analysis.sentiment.polarity == 0:\n",
        "            return ('neutral')\n",
        "        else:\n",
        "            return ('negative')"
      ],
      "execution_count": 113,
      "outputs": []
    },
    {
      "cell_type": "code",
      "metadata": {
        "colab": {
          "base_uri": "https://localhost:8080/"
        },
        "id": "Ja3_WMtw73fC",
        "outputId": "b89548ff-34a3-46c3-9319-74613b0a1522"
      },
      "source": [
        "print(get_sentiment(transcibed_text))"
      ],
      "execution_count": 114,
      "outputs": [
        {
          "output_type": "stream",
          "text": [
            "negative\n"
          ],
          "name": "stdout"
        }
      ]
    },
    {
      "cell_type": "code",
      "metadata": {
        "id": "yWYy9ZJM77d-"
      },
      "source": [
        ""
      ],
      "execution_count": null,
      "outputs": []
    }
  ]
}